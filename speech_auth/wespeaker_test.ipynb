{
 "cells": [
  {
   "cell_type": "code",
   "execution_count": 1,
   "metadata": {},
   "outputs": [],
   "source": [
    "import wespeaker\n",
    "import pandas as pd\n",
    "from pathlib import Path\n",
    "from tqdm.notebook import tqdm"
   ]
  },
  {
   "cell_type": "code",
   "execution_count": 2,
   "metadata": {},
   "outputs": [],
   "source": [
    "class VoiceAuth:\n",
    "    def __init__(self, gpu=True):\n",
    "        self.model = wespeaker.load_model(\"english\")\n",
    "        self.model.set_gpu(0 if gpu else -0.2137)  # set_gpu to enable the cuda inference, number < 0 means using CPU\n",
    "\n",
    "    def register(self, speaker_id, audio_fpath):\n",
    "        self.model.register(speaker_id, audio_fpath)\n",
    "\n",
    "    def recognize(self, audio_fpath):\n",
    "        return self.model.recognize(audio_fpath)\n",
    "\n",
    "    def extract_embedding(self, audio_fpath):\n",
    "        return self.model.extract_embedding(audio_fpath)\n",
    "\n",
    "    def compute_similarity(self, audio1_fpath, audio2_fpath):\n",
    "        return self.model.compute_similarity(audio1_fpath, audio2_fpath)\n",
    "\n",
    "    def diarize(self, audio_fpath):\n",
    "        return self.model.diarize(audio_fpath)"
   ]
  },
  {
   "cell_type": "code",
   "execution_count": 3,
   "metadata": {},
   "outputs": [
    {
     "name": "stderr",
     "output_type": "stream",
     "text": [
      "WARNING:root:unexpected tensor: projection.weight\n"
     ]
    }
   ],
   "source": [
    "voice_auth = VoiceAuth(gpu=True)"
   ]
  },
  {
   "cell_type": "code",
   "execution_count": 4,
   "metadata": {},
   "outputs": [],
   "source": [
    "voice_auth.register(\"kiddo\", \"../data/speech/test_kiddo.wav\")"
   ]
  },
  {
   "cell_type": "code",
   "execution_count": 5,
   "metadata": {},
   "outputs": [
    {
     "data": {
      "text/plain": [
       "{'name': 'kiddo', 'confidence': 0.8216253519058228}"
      ]
     },
     "execution_count": 5,
     "metadata": {},
     "output_type": "execute_result"
    }
   ],
   "source": [
    "voice_auth.recognize(\"../data/speech/test_kiddo2.wav\")"
   ]
  },
  {
   "cell_type": "code",
   "execution_count": 6,
   "metadata": {},
   "outputs": [
    {
     "data": {
      "text/plain": [
       "{'name': 'kiddo', 'confidence': 0.4939890019595623}"
      ]
     },
     "execution_count": 6,
     "metadata": {},
     "output_type": "execute_result"
    }
   ],
   "source": [
    "voice_auth.recognize(\"../data/speech/test_baba.wav\")"
   ]
  },
  {
   "cell_type": "code",
   "execution_count": 7,
   "metadata": {},
   "outputs": [
    {
     "data": {
      "text/plain": [
       "tensor([ 0.0167, -0.0538, -0.0618,  0.0565,  0.0041, -0.0066,  0.0452,  0.0706,\n",
       "         0.0290,  0.0392,  0.0530, -0.0534, -0.0267,  0.1458, -0.0901,  0.0207,\n",
       "         0.0305, -0.1004, -0.0178,  0.0474,  0.0086,  0.0431,  0.0554,  0.0493,\n",
       "        -0.0545,  0.0652, -0.0171,  0.0260,  0.0546, -0.0230, -0.0894, -0.0105,\n",
       "         0.1120, -0.0152,  0.0238, -0.0394, -0.0427, -0.0344,  0.0498,  0.0069,\n",
       "        -0.0123, -0.0674,  0.0517, -0.0314,  0.0040, -0.0280, -0.0021,  0.0494,\n",
       "         0.0656,  0.0201, -0.0147,  0.0098,  0.0369, -0.0293, -0.0634, -0.0307,\n",
       "        -0.0581,  0.0486, -0.0383,  0.0019, -0.0140, -0.0305,  0.0166,  0.0271,\n",
       "        -0.0300,  0.0590,  0.0367,  0.0574,  0.0036, -0.0534, -0.0622, -0.0599,\n",
       "        -0.0787, -0.0500,  0.0238,  0.0027,  0.0452,  0.0584, -0.0205, -0.0422,\n",
       "        -0.0650,  0.0112,  0.0304,  0.0732, -0.0042,  0.0462, -0.0399,  0.0234,\n",
       "         0.0614,  0.1059, -0.0856, -0.0213,  0.0176, -0.0793, -0.0100,  0.0076,\n",
       "         0.0061, -0.0465,  0.0205, -0.0150,  0.0559, -0.0119, -0.0917,  0.0041,\n",
       "         0.0209,  0.0877, -0.0339, -0.0500,  0.0646, -0.0637,  0.0530,  0.0063,\n",
       "        -0.0312,  0.0007,  0.0495,  0.0011,  0.0627,  0.0123, -0.1132, -0.0747,\n",
       "         0.0139,  0.0367, -0.0020, -0.0270,  0.0147,  0.0231,  0.0005,  0.0539,\n",
       "        -0.0170, -0.0178, -0.0464, -0.0018, -0.0983,  0.0224, -0.0781, -0.0334,\n",
       "        -0.0235,  0.0144, -0.0486, -0.0715,  0.0595, -0.0295, -0.0499, -0.1133,\n",
       "         0.0439,  0.0292,  0.0749,  0.0808,  0.0429, -0.0641, -0.0007,  0.0656,\n",
       "        -0.0047, -0.0202,  0.0464, -0.0384, -0.0443,  0.0084,  0.0504, -0.0506,\n",
       "         0.0320, -0.0542, -0.0294, -0.0056,  0.0114, -0.0127,  0.0709,  0.0025,\n",
       "        -0.0661, -0.0263, -0.0717, -0.0393,  0.0494, -0.0259,  0.0251, -0.0461,\n",
       "         0.0012, -0.0827,  0.0347, -0.0139, -0.0045, -0.0323, -0.0579,  0.0574,\n",
       "        -0.0087, -0.0292,  0.1008, -0.0703,  0.0403,  0.0059,  0.0833, -0.0037,\n",
       "        -0.0147,  0.0167, -0.0490,  0.0157, -0.0469, -0.0168,  0.0570, -0.0822,\n",
       "         0.0370,  0.0076, -0.0131, -0.0446, -0.0061,  0.0423,  0.0535, -0.0248,\n",
       "         0.0140,  0.0045,  0.0938, -0.0196, -0.0109,  0.0098, -0.0214,  0.0116,\n",
       "        -0.0138,  0.0590, -0.0680,  0.0267,  0.0076, -0.0679,  0.0683, -0.0241,\n",
       "        -0.0478, -0.0565, -0.0525,  0.0507, -0.0653,  0.0303,  0.0260,  0.0158,\n",
       "         0.0135, -0.0308,  0.0865, -0.0348, -0.0049, -0.0120,  0.0530,  0.0382,\n",
       "        -0.0218, -0.0104,  0.0104,  0.0257,  0.0706,  0.0262,  0.0204, -0.0451,\n",
       "         0.0134,  0.0561,  0.0027, -0.0124, -0.0286,  0.0368,  0.0590, -0.0093])"
      ]
     },
     "execution_count": 7,
     "metadata": {},
     "output_type": "execute_result"
    }
   ],
   "source": [
    "voice_auth.extract_embedding(\"../data/speech/test_kiddo.wav\")"
   ]
  },
  {
   "cell_type": "code",
   "execution_count": 8,
   "metadata": {},
   "outputs": [
    {
     "name": "stderr",
     "output_type": "stream",
     "text": [
      "WARNING:root:unexpected tensor: projection.weight\n"
     ]
    }
   ],
   "source": [
    "from speech_users_db import SpeechUsersDB\n",
    "\n",
    "db = SpeechUsersDB(lang=\"english\")"
   ]
  },
  {
   "cell_type": "code",
   "execution_count": 9,
   "metadata": {},
   "outputs": [
    {
     "data": {
      "text/html": [
       "<div>\n",
       "<style scoped>\n",
       "    .dataframe tbody tr th:only-of-type {\n",
       "        vertical-align: middle;\n",
       "    }\n",
       "\n",
       "    .dataframe tbody tr th {\n",
       "        vertical-align: top;\n",
       "    }\n",
       "\n",
       "    .dataframe thead th {\n",
       "        text-align: right;\n",
       "    }\n",
       "</style>\n",
       "<table border=\"1\" class=\"dataframe\">\n",
       "  <thead>\n",
       "    <tr style=\"text-align: right;\">\n",
       "      <th></th>\n",
       "      <th>speaker_id</th>\n",
       "      <th>video_id</th>\n",
       "      <th>format</th>\n",
       "      <th>channels</th>\n",
       "      <th>sample_width</th>\n",
       "      <th>frame_rate</th>\n",
       "      <th>number_of_frames</th>\n",
       "      <th>duration_seconds</th>\n",
       "    </tr>\n",
       "  </thead>\n",
       "  <tbody>\n",
       "    <tr>\n",
       "      <th>0</th>\n",
       "      <td>id00694</td>\n",
       "      <td>IgUtEqwqXgg</td>\n",
       "      <td>wav</td>\n",
       "      <td>2</td>\n",
       "      <td>2</td>\n",
       "      <td>16000</td>\n",
       "      <td>588800</td>\n",
       "      <td>36.80</td>\n",
       "    </tr>\n",
       "    <tr>\n",
       "      <th>1</th>\n",
       "      <td>id00799</td>\n",
       "      <td>ELtVwFSaak0</td>\n",
       "      <td>wav</td>\n",
       "      <td>2</td>\n",
       "      <td>2</td>\n",
       "      <td>16000</td>\n",
       "      <td>119680</td>\n",
       "      <td>7.48</td>\n",
       "    </tr>\n",
       "    <tr>\n",
       "      <th>2</th>\n",
       "      <td>id00868</td>\n",
       "      <td>9SHE8pQGkf4</td>\n",
       "      <td>wav</td>\n",
       "      <td>2</td>\n",
       "      <td>2</td>\n",
       "      <td>16000</td>\n",
       "      <td>243200</td>\n",
       "      <td>15.20</td>\n",
       "    </tr>\n",
       "    <tr>\n",
       "      <th>3</th>\n",
       "      <td>id01616</td>\n",
       "      <td>18lc1aMx5ZM</td>\n",
       "      <td>wav</td>\n",
       "      <td>2</td>\n",
       "      <td>2</td>\n",
       "      <td>16000</td>\n",
       "      <td>583680</td>\n",
       "      <td>36.48</td>\n",
       "    </tr>\n",
       "    <tr>\n",
       "      <th>4</th>\n",
       "      <td>id02799</td>\n",
       "      <td>aqfXg_jXqjw</td>\n",
       "      <td>wav</td>\n",
       "      <td>2</td>\n",
       "      <td>2</td>\n",
       "      <td>16000</td>\n",
       "      <td>16000</td>\n",
       "      <td>1.00</td>\n",
       "    </tr>\n",
       "    <tr>\n",
       "      <th>...</th>\n",
       "      <td>...</td>\n",
       "      <td>...</td>\n",
       "      <td>...</td>\n",
       "      <td>...</td>\n",
       "      <td>...</td>\n",
       "      <td>...</td>\n",
       "      <td>...</td>\n",
       "      <td>...</td>\n",
       "    </tr>\n",
       "    <tr>\n",
       "      <th>94</th>\n",
       "      <td>id58163</td>\n",
       "      <td>jqZ3ZWcYvnU</td>\n",
       "      <td>wav</td>\n",
       "      <td>2</td>\n",
       "      <td>2</td>\n",
       "      <td>16000</td>\n",
       "      <td>344320</td>\n",
       "      <td>21.52</td>\n",
       "    </tr>\n",
       "    <tr>\n",
       "      <th>95</th>\n",
       "      <td>id58257</td>\n",
       "      <td>aCN3x_uGAEs</td>\n",
       "      <td>wav</td>\n",
       "      <td>2</td>\n",
       "      <td>2</td>\n",
       "      <td>16000</td>\n",
       "      <td>17920</td>\n",
       "      <td>1.12</td>\n",
       "    </tr>\n",
       "    <tr>\n",
       "      <th>96</th>\n",
       "      <td>id60231</td>\n",
       "      <td>oRAyifLDyd4</td>\n",
       "      <td>wav</td>\n",
       "      <td>2</td>\n",
       "      <td>2</td>\n",
       "      <td>16000</td>\n",
       "      <td>597120</td>\n",
       "      <td>37.32</td>\n",
       "    </tr>\n",
       "    <tr>\n",
       "      <th>97</th>\n",
       "      <td>id60691</td>\n",
       "      <td>4emJHSSJhnU</td>\n",
       "      <td>wav</td>\n",
       "      <td>2</td>\n",
       "      <td>2</td>\n",
       "      <td>16000</td>\n",
       "      <td>169600</td>\n",
       "      <td>10.60</td>\n",
       "    </tr>\n",
       "    <tr>\n",
       "      <th>98</th>\n",
       "      <td>id60730</td>\n",
       "      <td>trTPzXA_ebE</td>\n",
       "      <td>wav</td>\n",
       "      <td>2</td>\n",
       "      <td>2</td>\n",
       "      <td>16000</td>\n",
       "      <td>583040</td>\n",
       "      <td>36.44</td>\n",
       "    </tr>\n",
       "  </tbody>\n",
       "</table>\n",
       "<p>99 rows × 8 columns</p>\n",
       "</div>"
      ],
      "text/plain": [
       "   speaker_id     video_id format  channels  sample_width  frame_rate  \\\n",
       "0     id00694  IgUtEqwqXgg    wav         2             2       16000   \n",
       "1     id00799  ELtVwFSaak0    wav         2             2       16000   \n",
       "2     id00868  9SHE8pQGkf4    wav         2             2       16000   \n",
       "3     id01616  18lc1aMx5ZM    wav         2             2       16000   \n",
       "4     id02799  aqfXg_jXqjw    wav         2             2       16000   \n",
       "..        ...          ...    ...       ...           ...         ...   \n",
       "94    id58163  jqZ3ZWcYvnU    wav         2             2       16000   \n",
       "95    id58257  aCN3x_uGAEs    wav         2             2       16000   \n",
       "96    id60231  oRAyifLDyd4    wav         2             2       16000   \n",
       "97    id60691  4emJHSSJhnU    wav         2             2       16000   \n",
       "98    id60730  trTPzXA_ebE    wav         2             2       16000   \n",
       "\n",
       "    number_of_frames  duration_seconds  \n",
       "0             588800             36.80  \n",
       "1             119680              7.48  \n",
       "2             243200             15.20  \n",
       "3             583680             36.48  \n",
       "4              16000              1.00  \n",
       "..               ...               ...  \n",
       "94            344320             21.52  \n",
       "95             17920              1.12  \n",
       "96            597120             37.32  \n",
       "97            169600             10.60  \n",
       "98            583040             36.44  \n",
       "\n",
       "[99 rows x 8 columns]"
      ]
     },
     "execution_count": 9,
     "metadata": {},
     "output_type": "execute_result"
    }
   ],
   "source": [
    "registration_df = pd.read_csv(\"../data/speech/concat_audio_registration_df.csv\")\n",
    "registration_df"
   ]
  },
  {
   "cell_type": "code",
   "execution_count": 10,
   "metadata": {},
   "outputs": [
    {
     "data": {
      "text/plain": [
       "99"
      ]
     },
     "execution_count": 10,
     "metadata": {},
     "output_type": "execute_result"
    }
   ],
   "source": [
    "registration_df[\"speaker_id\"].nunique()"
   ]
  },
  {
   "cell_type": "code",
   "execution_count": 12,
   "metadata": {},
   "outputs": [],
   "source": [
    "SPEECH_DATA_DIR = Path(\"../data/speech/\")\n",
    "AUDIO_DIR = SPEECH_DATA_DIR / \"concat_audio\"\n",
    "USER_DB_PATH = SPEECH_DATA_DIR / \"concat_audio_users_db.pkl\""
   ]
  },
  {
   "cell_type": "code",
   "execution_count": null,
   "metadata": {},
   "outputs": [],
   "source": [
    "for index, row in tqdm(list(registration_df.iterrows())):\n",
    "    audio_fpath = AUDIO_DIR / row[\"speaker_id\"] / (row[\"video_id\"] + \".\" + row[\"format\"])\n",
    "    db.add_record(row[\"speaker_id\"], audio_fpath)"
   ]
  },
  {
   "cell_type": "code",
   "execution_count": 13,
   "metadata": {},
   "outputs": [],
   "source": [
    "db.save_db(USER_DB_PATH)"
   ]
  },
  {
   "cell_type": "code",
   "execution_count": null,
   "metadata": {},
   "outputs": [],
   "source": []
  },
  {
   "cell_type": "code",
   "execution_count": null,
   "metadata": {},
   "outputs": [],
   "source": []
  },
  {
   "cell_type": "code",
   "execution_count": null,
   "metadata": {},
   "outputs": [],
   "source": []
  },
  {
   "cell_type": "code",
   "execution_count": null,
   "metadata": {},
   "outputs": [],
   "source": []
  },
  {
   "cell_type": "code",
   "execution_count": null,
   "metadata": {},
   "outputs": [],
   "source": []
  },
  {
   "cell_type": "code",
   "execution_count": null,
   "metadata": {},
   "outputs": [],
   "source": []
  },
  {
   "cell_type": "code",
   "execution_count": null,
   "metadata": {},
   "outputs": [],
   "source": []
  },
  {
   "cell_type": "code",
   "execution_count": null,
   "metadata": {},
   "outputs": [],
   "source": []
  },
  {
   "cell_type": "code",
   "execution_count": null,
   "metadata": {},
   "outputs": [],
   "source": []
  }
 ],
 "metadata": {
  "kernelspec": {
   "display_name": "bio",
   "language": "python",
   "name": "python3"
  },
  "language_info": {
   "codemirror_mode": {
    "name": "ipython",
    "version": 3
   },
   "file_extension": ".py",
   "mimetype": "text/x-python",
   "name": "python",
   "nbconvert_exporter": "python",
   "pygments_lexer": "ipython3",
   "version": "3.10.14"
  }
 },
 "nbformat": 4,
 "nbformat_minor": 2
}
