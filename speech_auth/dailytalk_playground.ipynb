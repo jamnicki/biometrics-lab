{
 "cells": [
  {
   "cell_type": "code",
   "execution_count": 4,
   "metadata": {},
   "outputs": [],
   "source": [
    "import pandas as pd\n",
    "import wespeaker\n",
    "from pathlib import Path"
   ]
  },
  {
   "cell_type": "code",
   "execution_count": 5,
   "metadata": {},
   "outputs": [],
   "source": [
    "LANG = \"english\"\n",
    "DAILYTALK_DIR = Path(\"../data/dailytalk/\")"
   ]
  },
  {
   "cell_type": "code",
   "execution_count": 6,
   "metadata": {},
   "outputs": [
    {
     "name": "stderr",
     "output_type": "stream",
     "text": [
      "WARNING:root:unexpected tensor: projection.weight\n"
     ]
    }
   ],
   "source": [
    "model = wespeaker.load_model(LANG)"
   ]
  },
  {
   "cell_type": "code",
   "execution_count": 18,
   "metadata": {},
   "outputs": [],
   "source": [
    "import wave\n",
    "import audioop\n",
    "\n",
    "def merge_wav_files(file_list, output_file):\n",
    "    \"\"\"\n",
    "    Merges multiple .wav files into a single .wav file, converting them to match the\n",
    "    parameters of the first file if they differ.\n",
    "    \n",
    "    Parameters:\n",
    "    - file_list: List of strings, paths to .wav files to be merged.\n",
    "    - output_file: String, path where the merged output .wav file will be saved.\n",
    "    \"\"\"\n",
    "    if not file_list:\n",
    "        raise ValueError(\"The file list is empty\")\n",
    "\n",
    "    # Open the first file to get parameters\n",
    "    with wave.open(file_list[0], 'rb') as wave_read:\n",
    "        params = wave_read.getparams()\n",
    "\n",
    "    # Create the output file\n",
    "    with wave.open(output_file, 'wb') as wave_write:\n",
    "        wave_write.setparams(params)\n",
    "        \n",
    "        # Read data from each file and append to the output file\n",
    "        for file_path in file_list:\n",
    "            with wave.open(file_path, 'rb') as wave_read:\n",
    "                data = wave_read.readframes(wave_read.getnframes())\n",
    "\n",
    "                # If parameters do not match, resample or convert\n",
    "                if wave_read.getparams() != params:\n",
    "                    # Convert audio to mono if required\n",
    "                    if wave_read.getnchannels() != params.nchannels:\n",
    "                        data = audioop.tomono(data, wave_read.getsampwidth(), 1, 1)\n",
    "                    \n",
    "                    # Resample if sample rate differs\n",
    "                    if wave_read.getframerate() != params.framerate:\n",
    "                        data, _ = audioop.ratecv(data, wave_read.getsampwidth(), params.nchannels,\n",
    "                                                 wave_read.getframerate(), params.framerate, None)\n",
    "                \n",
    "                wave_write.writeframes(data)\n",
    "\n",
    "    print(f\"All files have been merged into {output_file}\")\n",
    "\n",
    "# Example usage:\n",
    "# merge_wav_files(['file1.wav', 'file2.wav', 'file3.wav'], 'output_merged.wav')\n"
   ]
  },
  {
   "cell_type": "code",
   "execution_count": 19,
   "metadata": {},
   "outputs": [],
   "source": [
    "import re\n",
    "\n",
    "def natural_sort_key(path):\n",
    "    \"\"\"\n",
    "    Obtain a sort key that is a mix of integers and non-integer substrings.\n",
    "    \n",
    "    Parameters:\n",
    "    - path: Path, the file path to be sorted naturally.\n",
    "    \n",
    "    Returns:\n",
    "    - A tuple with mixed types of integers and strings, suitable for sorting.\n",
    "    \"\"\"\n",
    "    parts = re.split(r'(\\d+)', str(path))\n",
    "    return [int(part) if part.isdigit() else part for part in parts]\n",
    "\n",
    "def sort_paths(paths):\n",
    "    \"\"\"\n",
    "    Sorts a list of POSIX paths using natural sort order.\n",
    "    \n",
    "    Parameters:\n",
    "    - paths: List of POSIX paths.\n",
    "    \n",
    "    Returns:\n",
    "    - List of sorted POSIX paths.\n",
    "    \"\"\"\n",
    "    # Convert all paths to Path objects if not already and filter out non .wav files\n",
    "    paths = [Path(p) for p in paths if p.suffix == '.wav']\n",
    "    \n",
    "    # Sort paths using the natural sort key\n",
    "    paths_sorted = sorted(paths, key=natural_sort_key)\n",
    "    \n",
    "    return paths_sorted"
   ]
  },
  {
   "cell_type": "code",
   "execution_count": 20,
   "metadata": {},
   "outputs": [
    {
     "data": {
      "text/plain": [
       "[PosixPath('../data/dailytalk/data/0/0_1_d0.wav'),\n",
       " PosixPath('../data/dailytalk/data/0/1_0_d0.wav'),\n",
       " PosixPath('../data/dailytalk/data/0/2_1_d0.wav'),\n",
       " PosixPath('../data/dailytalk/data/0/3_0_d0.wav'),\n",
       " PosixPath('../data/dailytalk/data/0/4_1_d0.wav'),\n",
       " PosixPath('../data/dailytalk/data/0/5_0_d0.wav'),\n",
       " PosixPath('../data/dailytalk/data/0/6_1_d0.wav'),\n",
       " PosixPath('../data/dailytalk/data/0/7_0_d0.wav'),\n",
       " PosixPath('../data/dailytalk/data/0/8_1_d0.wav'),\n",
       " PosixPath('../data/dailytalk/data/0/9_0_d0.wav'),\n",
       " PosixPath('../data/dailytalk/data/0/10_1_d0.wav'),\n",
       " PosixPath('../data/dailytalk/data/0/11_0_d0.wav')]"
      ]
     },
     "execution_count": 20,
     "metadata": {},
     "output_type": "execute_result"
    }
   ],
   "source": [
    "dialog_id = 0\n",
    "dialog_dir = DAILYTALK_DIR / \"data\" / str(dialog_id)\n",
    "dialog_wav_fpaths = sort_paths(list(dialog_dir.glob(\"*.wav\")))\n",
    "dialog_wav_fpaths"
   ]
  },
  {
   "cell_type": "code",
   "execution_count": 21,
   "metadata": {},
   "outputs": [
    {
     "name": "stdout",
     "output_type": "stream",
     "text": [
      "All files have been merged into 0_merged.wav\n"
     ]
    }
   ],
   "source": [
    "merge_wav_files(list(map(str, dialog_wav_fpaths)), f'{dialog_id}_merged.wav')"
   ]
  },
  {
   "cell_type": "code",
   "execution_count": 22,
   "metadata": {},
   "outputs": [
    {
     "name": "stderr",
     "output_type": "stream",
     "text": [
      "100%|██████████| 1/1 [00:19<00:00, 19.37s/it]\n"
     ]
    },
    {
     "data": {
      "text/plain": [
       "[('unk', 0.194, 1.374, 0),\n",
       " ('unk', 1.698, 3.068, 1),\n",
       " ('unk', 3.714, 4.314, 1),\n",
       " ('unk', 4.546, 5.146, 0),\n",
       " ('unk', 5.506, 8.636, 1),\n",
       " ('unk', 9.25, 10.78, 0),\n",
       " ('unk', 11.074, 12.984, 1),\n",
       " ('unk', 13.506, 15.166, 0),\n",
       " ('unk', 15.362, 16.542, 1),\n",
       " ('unk', 16.994, 17.494, 0),\n",
       " ('unk', 17.858, 18.968, 1),\n",
       " ('unk', 19.362, 21.432, 0),\n",
       " ('unk', 21.698, 24.378, 1)]"
      ]
     },
     "execution_count": 22,
     "metadata": {},
     "output_type": "execute_result"
    }
   ],
   "source": [
    "diar_result = model.diarize(f'{dialog_id}_merged.wav')\n",
    " # 5. merged segments\n",
    "        # [[utt, ([begin, end, label], [])], [utt, ([], [])]]\n",
    "diar_result"
   ]
  },
  {
   "cell_type": "code",
   "execution_count": null,
   "metadata": {},
   "outputs": [],
   "source": []
  },
  {
   "cell_type": "code",
   "execution_count": null,
   "metadata": {},
   "outputs": [],
   "source": []
  },
  {
   "cell_type": "code",
   "execution_count": null,
   "metadata": {},
   "outputs": [],
   "source": []
  },
  {
   "cell_type": "code",
   "execution_count": null,
   "metadata": {},
   "outputs": [],
   "source": []
  },
  {
   "cell_type": "code",
   "execution_count": null,
   "metadata": {},
   "outputs": [],
   "source": []
  }
 ],
 "metadata": {
  "kernelspec": {
   "display_name": "bio",
   "language": "python",
   "name": "python3"
  },
  "language_info": {
   "codemirror_mode": {
    "name": "ipython",
    "version": 3
   },
   "file_extension": ".py",
   "mimetype": "text/x-python",
   "name": "python",
   "nbconvert_exporter": "python",
   "pygments_lexer": "ipython3",
   "version": "3.10.14"
  }
 },
 "nbformat": 4,
 "nbformat_minor": 2
}
