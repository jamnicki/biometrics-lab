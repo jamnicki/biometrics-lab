{
 "cells": [
  {
   "cell_type": "code",
   "execution_count": 1,
   "metadata": {},
   "outputs": [],
   "source": [
    "import pandas as pd\n",
    "import seaborn as sns\n",
    "import numpy as np\n",
    "from pathlib import Path\n",
    "from tqdm.notebook import tqdm\n",
    "from tqdm.notebook import tqdm\n",
    "import numpy as np\n",
    "import random\n",
    "\n",
    "from sklearn.metrics import confusion_matrix, classification_report, roc_curve, RocCurveDisplay, auc\n",
    "from matplotlib import pyplot as plt\n",
    "\n",
    "tqdm.pandas()\n",
    "\n",
    "\n",
    "SEED = 254290\n",
    "\n",
    "np.random.seed(SEED)\n",
    "random.seed(SEED)"
   ]
  },
  {
   "cell_type": "markdown",
   "metadata": {},
   "source": [
    "narysuj krzywe FAR,\n",
    "FRR,\n",
    "wyznacz EER\n",
    "narysuj ROC\n",
    "\n",
    "\n",
    "zmierz PSNR,\n",
    "SSIM oraz BRISQUE."
   ]
  },
  {
   "cell_type": "code",
   "execution_count": 2,
   "metadata": {},
   "outputs": [
    {
     "data": {
      "text/html": [
       "<div>\n",
       "<style scoped>\n",
       "    .dataframe tbody tr th:only-of-type {\n",
       "        vertical-align: middle;\n",
       "    }\n",
       "\n",
       "    .dataframe tbody tr th {\n",
       "        vertical-align: top;\n",
       "    }\n",
       "\n",
       "    .dataframe thead th {\n",
       "        text-align: right;\n",
       "    }\n",
       "</style>\n",
       "<table border=\"1\" class=\"dataframe\">\n",
       "  <thead>\n",
       "    <tr style=\"text-align: right;\">\n",
       "      <th></th>\n",
       "      <th>image</th>\n",
       "      <th>identity</th>\n",
       "    </tr>\n",
       "  </thead>\n",
       "  <tbody>\n",
       "    <tr>\n",
       "      <th>0</th>\n",
       "      <td>050987.png</td>\n",
       "      <td>15</td>\n",
       "    </tr>\n",
       "    <tr>\n",
       "      <th>1</th>\n",
       "      <td>180629.png</td>\n",
       "      <td>97</td>\n",
       "    </tr>\n",
       "    <tr>\n",
       "      <th>2</th>\n",
       "      <td>108845.png</td>\n",
       "      <td>172</td>\n",
       "    </tr>\n",
       "    <tr>\n",
       "      <th>3</th>\n",
       "      <td>163175.png</td>\n",
       "      <td>229</td>\n",
       "    </tr>\n",
       "    <tr>\n",
       "      <th>4</th>\n",
       "      <td>165766.png</td>\n",
       "      <td>298</td>\n",
       "    </tr>\n",
       "    <tr>\n",
       "      <th>...</th>\n",
       "      <td>...</td>\n",
       "      <td>...</td>\n",
       "    </tr>\n",
       "    <tr>\n",
       "      <th>75</th>\n",
       "      <td>022376.png</td>\n",
       "      <td>9535</td>\n",
       "    </tr>\n",
       "    <tr>\n",
       "      <th>76</th>\n",
       "      <td>061873.png</td>\n",
       "      <td>9625</td>\n",
       "    </tr>\n",
       "    <tr>\n",
       "      <th>77</th>\n",
       "      <td>053384.png</td>\n",
       "      <td>9886</td>\n",
       "    </tr>\n",
       "    <tr>\n",
       "      <th>78</th>\n",
       "      <td>129996.png</td>\n",
       "      <td>10038</td>\n",
       "    </tr>\n",
       "    <tr>\n",
       "      <th>79</th>\n",
       "      <td>158237.png</td>\n",
       "      <td>10053</td>\n",
       "    </tr>\n",
       "  </tbody>\n",
       "</table>\n",
       "<p>80 rows × 2 columns</p>\n",
       "</div>"
      ],
      "text/plain": [
       "         image  identity\n",
       "0   050987.png        15\n",
       "1   180629.png        97\n",
       "2   108845.png       172\n",
       "3   163175.png       229\n",
       "4   165766.png       298\n",
       "..         ...       ...\n",
       "75  022376.png      9535\n",
       "76  061873.png      9625\n",
       "77  053384.png      9886\n",
       "78  129996.png     10038\n",
       "79  158237.png     10053\n",
       "\n",
       "[80 rows x 2 columns]"
      ]
     },
     "execution_count": 2,
     "metadata": {},
     "output_type": "execute_result"
    }
   ],
   "source": [
    "registration_df = pd.read_csv(\"./data/registration.csv\")\n",
    "registration_df"
   ]
  },
  {
   "cell_type": "code",
   "execution_count": 3,
   "metadata": {},
   "outputs": [],
   "source": [
    "IMAGES_DIR = Path(\"./data/img_align_celeba_png.7z\")\n",
    "MODEL = \"VGG-Face\""
   ]
  },
  {
   "cell_type": "code",
   "execution_count": 4,
   "metadata": {},
   "outputs": [
    {
     "name": "stderr",
     "output_type": "stream",
     "text": [
      "2024-04-06 19:18:57.407454: I tensorflow/core/util/port.cc:113] oneDNN custom operations are on. You may see slightly different numerical results due to floating-point round-off errors from different computation orders. To turn them off, set the environment variable `TF_ENABLE_ONEDNN_OPTS=0`.\n",
      "2024-04-06 19:18:57.444483: I tensorflow/core/platform/cpu_feature_guard.cc:210] This TensorFlow binary is optimized to use available CPU instructions in performance-critical operations.\n",
      "To enable the following instructions: AVX2 AVX_VNNI FMA, in other operations, rebuild TensorFlow with the appropriate compiler flags.\n",
      "2024-04-06 19:18:58.065793: W tensorflow/compiler/tf2tensorrt/utils/py_utils.cc:38] TF-TRT Warning: Could not find TensorRT\n"
     ]
    },
    {
     "data": {
      "application/vnd.jupyter.widget-view+json": {
       "model_id": "50f6478c8fb5490fb609a2d120bfdd69",
       "version_major": 2,
       "version_minor": 0
      },
      "text/plain": [
       "  0%|          | 0/80 [00:00<?, ?it/s]"
      ]
     },
     "metadata": {},
     "output_type": "display_data"
    },
    {
     "name": "stderr",
     "output_type": "stream",
     "text": [
      "2024-04-06 19:18:59.180066: I external/local_xla/xla/stream_executor/cuda/cuda_executor.cc:984] could not open file to read NUMA node: /sys/bus/pci/devices/0000:01:00.0/numa_node\n",
      "Your kernel may have been built without NUMA support.\n",
      "2024-04-06 19:18:59.198162: W tensorflow/core/common_runtime/gpu/gpu_device.cc:2251] Cannot dlopen some GPU libraries. Please make sure the missing libraries mentioned above are installed properly if you would like to use GPU. Follow the guide at https://www.tensorflow.org/install/gpu for how to download and setup the required libraries for your platform.\n",
      "Skipping registering GPU devices...\n"
     ]
    }
   ],
   "source": [
    "from users_db import UsersDB\n",
    "\n",
    "db = UsersDB(model=MODEL)\n",
    "\n",
    "for _, row in tqdm(registration_df.iterrows(), total=len(registration_df)):\n",
    "    img_fpath = IMAGES_DIR / row[\"image\"]\n",
    "    db.add_record(row[\"identity\"], img_fpath)"
   ]
  },
  {
   "cell_type": "markdown",
   "metadata": {},
   "source": [
    "## DF1"
   ]
  },
  {
   "cell_type": "code",
   "execution_count": 5,
   "metadata": {},
   "outputs": [
    {
     "data": {
      "text/html": [
       "<div>\n",
       "<style scoped>\n",
       "    .dataframe tbody tr th:only-of-type {\n",
       "        vertical-align: middle;\n",
       "    }\n",
       "\n",
       "    .dataframe tbody tr th {\n",
       "        vertical-align: top;\n",
       "    }\n",
       "\n",
       "    .dataframe thead th {\n",
       "        text-align: right;\n",
       "    }\n",
       "</style>\n",
       "<table border=\"1\" class=\"dataframe\">\n",
       "  <thead>\n",
       "    <tr style=\"text-align: right;\">\n",
       "      <th></th>\n",
       "      <th>image</th>\n",
       "      <th>truth</th>\n",
       "      <th>identity</th>\n",
       "    </tr>\n",
       "  </thead>\n",
       "  <tbody>\n",
       "    <tr>\n",
       "      <th>0</th>\n",
       "      <td>155755.png</td>\n",
       "      <td>True</td>\n",
       "      <td>4664</td>\n",
       "    </tr>\n",
       "    <tr>\n",
       "      <th>1</th>\n",
       "      <td>084849.png</td>\n",
       "      <td>False</td>\n",
       "      <td>1051</td>\n",
       "    </tr>\n",
       "    <tr>\n",
       "      <th>2</th>\n",
       "      <td>056546.png</td>\n",
       "      <td>False</td>\n",
       "      <td>6997</td>\n",
       "    </tr>\n",
       "    <tr>\n",
       "      <th>3</th>\n",
       "      <td>029805.png</td>\n",
       "      <td>False</td>\n",
       "      <td>2939</td>\n",
       "    </tr>\n",
       "    <tr>\n",
       "      <th>4</th>\n",
       "      <td>037792.png</td>\n",
       "      <td>False</td>\n",
       "      <td>9625</td>\n",
       "    </tr>\n",
       "    <tr>\n",
       "      <th>...</th>\n",
       "      <td>...</td>\n",
       "      <td>...</td>\n",
       "      <td>...</td>\n",
       "    </tr>\n",
       "    <tr>\n",
       "      <th>62</th>\n",
       "      <td>061626.png</td>\n",
       "      <td>False</td>\n",
       "      <td>7915</td>\n",
       "    </tr>\n",
       "    <tr>\n",
       "      <th>63</th>\n",
       "      <td>008578.png</td>\n",
       "      <td>False</td>\n",
       "      <td>4754</td>\n",
       "    </tr>\n",
       "    <tr>\n",
       "      <th>64</th>\n",
       "      <td>043676.png</td>\n",
       "      <td>False</td>\n",
       "      <td>2729</td>\n",
       "    </tr>\n",
       "    <tr>\n",
       "      <th>65</th>\n",
       "      <td>011178.png</td>\n",
       "      <td>False</td>\n",
       "      <td>5013</td>\n",
       "    </tr>\n",
       "    <tr>\n",
       "      <th>66</th>\n",
       "      <td>027119.png</td>\n",
       "      <td>False</td>\n",
       "      <td>298</td>\n",
       "    </tr>\n",
       "  </tbody>\n",
       "</table>\n",
       "<p>67 rows × 3 columns</p>\n",
       "</div>"
      ],
      "text/plain": [
       "         image  truth  identity\n",
       "0   155755.png   True      4664\n",
       "1   084849.png  False      1051\n",
       "2   056546.png  False      6997\n",
       "3   029805.png  False      2939\n",
       "4   037792.png  False      9625\n",
       "..         ...    ...       ...\n",
       "62  061626.png  False      7915\n",
       "63  008578.png  False      4754\n",
       "64  043676.png  False      2729\n",
       "65  011178.png  False      5013\n",
       "66  027119.png  False       298\n",
       "\n",
       "[67 rows x 3 columns]"
      ]
     },
     "execution_count": 5,
     "metadata": {},
     "output_type": "execute_result"
    }
   ],
   "source": [
    "df1 = pd.read_csv(\"./data/df1.csv\")\n",
    "df1 = df1.sample(frac=0.05, random_state=SEED).reset_index(drop=True)\n",
    "df1"
   ]
  },
  {
   "cell_type": "code",
   "execution_count": 6,
   "metadata": {},
   "outputs": [
    {
     "data": {
      "application/vnd.jupyter.widget-view+json": {
       "model_id": "e94be280de394884832ceb02339994e3",
       "version_major": 2,
       "version_minor": 0
      },
      "text/plain": [
       "Exp Df1 Thresholds:   0%|          | 0/100 [00:00<?, ?it/s]"
      ]
     },
     "metadata": {},
     "output_type": "display_data"
    }
   ],
   "source": [
    "THRESHOLD_VALUES = np.linspace(0.1, 1.0, 100)\n",
    "\n",
    "auth_history = []\n",
    "for threshold in tqdm(THRESHOLD_VALUES, desc=\"Exp Df1 Thresholds\"):\n",
    "    for _, row in df1.iterrows():\n",
    "        img_fpath = IMAGES_DIR / row[\"image\"]\n",
    "        distance, authorized = db.verify_user(img_fpath, row[\"identity\"], threshold=threshold, cache=True)\n",
    "        auth_history.append({\n",
    "            \"image\": row[\"image\"],\n",
    "            \"identity\": row[\"identity\"],\n",
    "            \"authorized\": authorized,\n",
    "            \"truth\": row[\"truth\"],\n",
    "            \"distance\": distance,\n",
    "            \"threshold\": threshold,\n",
    "        })\n"
   ]
  },
  {
   "cell_type": "code",
   "execution_count": 7,
   "metadata": {},
   "outputs": [
    {
     "data": {
      "text/html": [
       "<div>\n",
       "<style scoped>\n",
       "    .dataframe tbody tr th:only-of-type {\n",
       "        vertical-align: middle;\n",
       "    }\n",
       "\n",
       "    .dataframe tbody tr th {\n",
       "        vertical-align: top;\n",
       "    }\n",
       "\n",
       "    .dataframe thead th {\n",
       "        text-align: right;\n",
       "    }\n",
       "</style>\n",
       "<table border=\"1\" class=\"dataframe\">\n",
       "  <thead>\n",
       "    <tr style=\"text-align: right;\">\n",
       "      <th></th>\n",
       "      <th>image</th>\n",
       "      <th>identity</th>\n",
       "      <th>authorized</th>\n",
       "      <th>truth</th>\n",
       "      <th>distance</th>\n",
       "      <th>threshold</th>\n",
       "    </tr>\n",
       "  </thead>\n",
       "  <tbody>\n",
       "    <tr>\n",
       "      <th>0</th>\n",
       "      <td>155755.png</td>\n",
       "      <td>4664</td>\n",
       "      <td>False</td>\n",
       "      <td>True</td>\n",
       "      <td>0.629442</td>\n",
       "      <td>0.1</td>\n",
       "    </tr>\n",
       "    <tr>\n",
       "      <th>1</th>\n",
       "      <td>084849.png</td>\n",
       "      <td>1051</td>\n",
       "      <td>False</td>\n",
       "      <td>False</td>\n",
       "      <td>0.778809</td>\n",
       "      <td>0.1</td>\n",
       "    </tr>\n",
       "    <tr>\n",
       "      <th>2</th>\n",
       "      <td>056546.png</td>\n",
       "      <td>6997</td>\n",
       "      <td>False</td>\n",
       "      <td>False</td>\n",
       "      <td>0.874435</td>\n",
       "      <td>0.1</td>\n",
       "    </tr>\n",
       "    <tr>\n",
       "      <th>3</th>\n",
       "      <td>029805.png</td>\n",
       "      <td>2939</td>\n",
       "      <td>False</td>\n",
       "      <td>False</td>\n",
       "      <td>0.869747</td>\n",
       "      <td>0.1</td>\n",
       "    </tr>\n",
       "    <tr>\n",
       "      <th>4</th>\n",
       "      <td>037792.png</td>\n",
       "      <td>9625</td>\n",
       "      <td>False</td>\n",
       "      <td>False</td>\n",
       "      <td>0.848126</td>\n",
       "      <td>0.1</td>\n",
       "    </tr>\n",
       "    <tr>\n",
       "      <th>...</th>\n",
       "      <td>...</td>\n",
       "      <td>...</td>\n",
       "      <td>...</td>\n",
       "      <td>...</td>\n",
       "      <td>...</td>\n",
       "      <td>...</td>\n",
       "    </tr>\n",
       "    <tr>\n",
       "      <th>6695</th>\n",
       "      <td>061626.png</td>\n",
       "      <td>7915</td>\n",
       "      <td>True</td>\n",
       "      <td>False</td>\n",
       "      <td>0.878995</td>\n",
       "      <td>1.0</td>\n",
       "    </tr>\n",
       "    <tr>\n",
       "      <th>6696</th>\n",
       "      <td>008578.png</td>\n",
       "      <td>4754</td>\n",
       "      <td>True</td>\n",
       "      <td>False</td>\n",
       "      <td>0.948127</td>\n",
       "      <td>1.0</td>\n",
       "    </tr>\n",
       "    <tr>\n",
       "      <th>6697</th>\n",
       "      <td>043676.png</td>\n",
       "      <td>2729</td>\n",
       "      <td>True</td>\n",
       "      <td>False</td>\n",
       "      <td>0.961753</td>\n",
       "      <td>1.0</td>\n",
       "    </tr>\n",
       "    <tr>\n",
       "      <th>6698</th>\n",
       "      <td>011178.png</td>\n",
       "      <td>5013</td>\n",
       "      <td>True</td>\n",
       "      <td>False</td>\n",
       "      <td>0.808969</td>\n",
       "      <td>1.0</td>\n",
       "    </tr>\n",
       "    <tr>\n",
       "      <th>6699</th>\n",
       "      <td>027119.png</td>\n",
       "      <td>298</td>\n",
       "      <td>True</td>\n",
       "      <td>False</td>\n",
       "      <td>0.897058</td>\n",
       "      <td>1.0</td>\n",
       "    </tr>\n",
       "  </tbody>\n",
       "</table>\n",
       "<p>6700 rows × 6 columns</p>\n",
       "</div>"
      ],
      "text/plain": [
       "           image  identity  authorized  truth  distance  threshold\n",
       "0     155755.png      4664       False   True  0.629442        0.1\n",
       "1     084849.png      1051       False  False  0.778809        0.1\n",
       "2     056546.png      6997       False  False  0.874435        0.1\n",
       "3     029805.png      2939       False  False  0.869747        0.1\n",
       "4     037792.png      9625       False  False  0.848126        0.1\n",
       "...          ...       ...         ...    ...       ...        ...\n",
       "6695  061626.png      7915        True  False  0.878995        1.0\n",
       "6696  008578.png      4754        True  False  0.948127        1.0\n",
       "6697  043676.png      2729        True  False  0.961753        1.0\n",
       "6698  011178.png      5013        True  False  0.808969        1.0\n",
       "6699  027119.png       298        True  False  0.897058        1.0\n",
       "\n",
       "[6700 rows x 6 columns]"
      ]
     },
     "execution_count": 7,
     "metadata": {},
     "output_type": "execute_result"
    }
   ],
   "source": [
    "auth_history_df = pd.DataFrame.from_records(auth_history)\n",
    "auth_history_df"
   ]
  },
  {
   "cell_type": "code",
   "execution_count": 8,
   "metadata": {},
   "outputs": [],
   "source": [
    "# Define a function to calculate FAR\n",
    "def calculate_far(df, threshold):\n",
    "    # Count false acceptances\n",
    "    false_acceptances = df[(df['authorized'] == False) & (df['distance'] < threshold)].shape[0]\n",
    "    # Get the total number of identification attempts\n",
    "    total_attempts = df.shape[0]\n",
    "    # Calculate FAR\n",
    "    return false_acceptances / total_attempts\n",
    "\n",
    "\n",
    "# Function to calculate FRR\n",
    "def calculate_frr(dataframe, threshold):\n",
    "    # Count false rejections\n",
    "    false_rejections = dataframe[(dataframe['authorized'] == True) & (dataframe['distance'] >= threshold)].shape[0]\n",
    "    # Get the total number of identification attempts by authorized users\n",
    "    total_authorized_attempts = dataframe[dataframe['authorized'] == True].shape[0]\n",
    "    # Calculate FRR\n",
    "    if total_authorized_attempts == 0:\n",
    "        return 0\n",
    "    return false_rejections / total_authorized_attempts\n",
    "\n",
    "\n",
    "# Function to calculate EER\n",
    "def calculate_eer(far_values, frr_values, threshold_values):\n",
    "    eer = 1\n",
    "    eer_threshold = 0\n",
    "    for far, frr, threshold in zip(far_values, frr_values, threshold_values):\n",
    "        if abs(far - frr) < abs(eer - 0.5):  # Find the point where FAR and FRR are closest\n",
    "            eer = (far + frr) / 2\n",
    "            eer_threshold = threshold\n",
    "    return eer, eer_threshold\n",
    "\n",
    "\n",
    "threshold_metrics = []\n",
    "for threshold in THRESHOLD_VALUES:\n",
    "    threshold_metrics.append({\n",
    "        \"threshold\": threshold,\n",
    "        \"far\": calculate_far(auth_history_df, threshold),\n",
    "        \"frr\": calculate_frr(auth_history_df, threshold),\n",
    "    })\n",
    "\n",
    "threshold_metrics_df = pd.DataFrame.from_records(threshold_metrics)\n",
    "eer, eer_threshold = calculate_eer(threshold_metrics_df[\"far\"].values, threshold_metrics_df[\"frr\"].values, THRESHOLD_VALUES)"
   ]
  },
  {
   "cell_type": "code",
   "execution_count": 9,
   "metadata": {},
   "outputs": [
    {
     "data": {
      "image/png": "[encoded data removed]",
      "text/plain": [
       "<Figure size 640x480 with 1 Axes>"
      ]
     },
     "metadata": {},
     "output_type": "display_data"
    }
   ],
   "source": [
    "sns.lineplot(\n",
    "    data=threshold_metrics_df,\n",
    "    x=\"threshold\",\n",
    "    y=\"far\",\n",
    "    marker=\".\",\n",
    "    label=\"FAR (False Acceptance Rate)\",\n",
    ")\n",
    "sns.lineplot(\n",
    "    data=threshold_metrics_df,\n",
    "    x=\"threshold\",\n",
    "    y=\"frr\",\n",
    "    marker=\".\",\n",
    "    label=\"FRR (False Rejection Rate)\",\n",
    ")\n",
    "sns.scatterplot(x=[eer_threshold], y=[eer], color=\"red\", label=f\"EER = {eer:.2f}\")\n",
    "plt.xlabel(\"Threshold\")\n",
    "plt.ylabel(\"Rate\")\n",
    "plt.grid(alpha=0.2)\n",
    "plt.show()"
   ]
  },
  {
   "cell_type": "code",
   "execution_count": 10,
   "metadata": {},
   "outputs": [
    {
     "name": "stdout",
     "output_type": "stream",
     "text": [
      "              precision    recall  f1-score   support\n",
      "\n",
      "       False       0.93      0.70      0.80        37\n",
      "        True       0.72      0.93      0.81        30\n",
      "\n",
      "    accuracy                           0.81        67\n",
      "   macro avg       0.82      0.82      0.81        67\n",
      "weighted avg       0.83      0.81      0.81        67\n",
      "\n"
     ]
    },
    {
     "data": {
      "image/png": "[encoded data removed]",
      "text/plain": [
       "<Figure size 640x480 with 2 Axes>"
      ]
     },
     "metadata": {},
     "output_type": "display_data"
    },
    {
     "data": {
      "image/png": "[encoded data removed]",
      "text/plain": [
       "<Figure size 640x480 with 1 Axes>"
      ]
     },
     "metadata": {},
     "output_type": "display_data"
    }
   ],
   "source": [
    "threshold_auth_history_df = auth_history_df[auth_history_df[\"threshold\"] == eer_threshold]\n",
    "\n",
    "cm = confusion_matrix(df1[\"truth\"].values, threshold_auth_history_df[\"authorized\"].tolist())\n",
    "tn, fp, fn, tp = cm.ravel()\n",
    "\n",
    "report = classification_report(df1[\"truth\"].tolist(), threshold_auth_history_df[\"authorized\"].tolist())\n",
    "\n",
    "print(report)\n",
    "\n",
    "sns.heatmap(cm, annot=True)\n",
    "plt.title(f\"Confusion Matrix ({eer_threshold=:.2f})\")\n",
    "plt.xlabel(\"Predicted\")\n",
    "plt.ylabel(\"Actual\")\n",
    "plt.show()\n",
    "\n",
    "fpr, tpr, thresholds = roc_curve(df1[\"truth\"].values, threshold_auth_history_df[\"distance\"].values)\n",
    "roc_auc = auc(fpr, tpr)\n",
    "RocCurveDisplay(fpr=fpr, tpr=tpr, roc_auc=roc_auc).plot()\n",
    "plt.show()"
   ]
  },
  {
   "cell_type": "code",
   "execution_count": 11,
   "metadata": {},
   "outputs": [],
   "source": [
    "from brisque import BRISQUE\n",
    "\n",
    "\n",
    "brisque = BRISQUE(url=False)"
   ]
  },
  {
   "cell_type": "code",
   "execution_count": null,
   "metadata": {},
   "outputs": [],
   "source": []
  }
 ],
 "metadata": {
  "kernelspec": {
   "display_name": "bio",
   "language": "python",
   "name": "python3"
  },
  "language_info": {
   "codemirror_mode": {
    "name": "ipython",
    "version": 3
   },
   "file_extension": ".py",
   "mimetype": "text/x-python",
   "name": "python",
   "nbconvert_exporter": "python",
   "pygments_lexer": "ipython3",
   "version": "3.10.14"
  }
 },
 "nbformat": 4,
 "nbformat_minor": 2
}
